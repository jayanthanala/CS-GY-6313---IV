{
  "cells": [
    {
      "cell_type": "markdown",
      "metadata": {
        "id": "AF_uzNoPj7VB"
      },
      "source": [
        "# CS-GY 6313 / CUSP-GX 6006: Data Visualization - Spring '24\n",
        "# Homework #2"
      ]
    },
    {
      "cell_type": "markdown",
      "source": [
        "**Name:** Jayanth Anala \\\\\n",
        "**NetID:** ja4874 \\\\\n",
        "**Email:** ja4874@nyu.edu"
      ],
      "metadata": {
        "id": "1gZpI9Aqe35G"
      }
    },
    {
      "cell_type": "code",
      "execution_count": null,
      "metadata": {
        "id": "5Hn3rCs0b3M_"
      },
      "outputs": [],
      "source": [
        "!pip install pandas\n",
        "!pip install geopandas\n",
        "!pip install geoplot\n",
        "!pip install pyogrio"
      ]
    },
    {
      "cell_type": "code",
      "execution_count": 31,
      "metadata": {
        "id": "lRgIbwXBJrNj"
      },
      "outputs": [],
      "source": [
        "import pandas as pd\n",
        "import geopandas\n",
        "import geoplot\n",
        "import matplotlib.pyplot as plt"
      ]
    },
    {
      "cell_type": "markdown",
      "metadata": {
        "id": "oeGmFEjxj7VH"
      },
      "source": [
        "## Data Pre-Processing (3/15 points)"
      ]
    },
    {
      "cell_type": "code",
      "source": [
        "# ----------------------- #\n",
        "# DO NOT MODIFY THIS CODE #\n",
        "# ----------------------- #\n",
        "\n",
        "trips_df = pd.read_csv('./datasets/202007-divvy-tripdata.csv')\n",
        "community_df = geopandas.read_file('./datasets/chicago-community-areas.geojson')\n",
        "stations_df = pd.read_csv('./datasets/station-locations.csv')"
      ],
      "metadata": {
        "id": "9vVTrrZ7rB4n"
      },
      "execution_count": 33,
      "outputs": []
    },
    {
      "cell_type": "markdown",
      "metadata": {
        "id": "iHfCqvCsj7VI"
      },
      "source": [
        "### Bike Trip Pre-processing (1 point)"
      ]
    },
    {
      "cell_type": "markdown",
      "source": [
        "\n",
        "**TODO:** \\\\\n",
        "Within the bike trip data that we loaded (`trips_df`), get rid of missing (`NaN`) start and end station ids, and convert those columns to integer columns. Make sure the modified dataframe is referenced as `trips_pr_df`.\n",
        "\n",
        "Number of `NaN` Values: \\\\\n",
        "`start_station_id`: 152 \\\\\n",
        "`end_station_id`: 969 \\\\\n",
        "\n",
        "\n",
        "*   I got rid of these missing values from start and end station ids\n",
        "*   I also converted those columns to integers from floats.\n",
        "\n",
        "\n",
        "\n",
        "\n"
      ],
      "metadata": {
        "id": "PSTgJwnxfYwm"
      }
    },
    {
      "cell_type": "code",
      "execution_count": 34,
      "metadata": {
        "id": "r16i3E_799xZ",
        "colab": {
          "base_uri": "https://localhost:8080/"
        },
        "outputId": "da3e2568-5487-4721-bad1-a9187127c545"
      },
      "outputs": [
        {
          "output_type": "stream",
          "name": "stdout",
          "text": [
            "<class 'pandas.core.frame.DataFrame'>\n",
            "RangeIndex: 551480 entries, 0 to 551479\n",
            "Data columns (total 13 columns):\n",
            " #   Column              Non-Null Count   Dtype  \n",
            "---  ------              --------------   -----  \n",
            " 0   ride_id             551480 non-null  object \n",
            " 1   rideable_type       551480 non-null  object \n",
            " 2   started_at          551480 non-null  object \n",
            " 3   ended_at            551480 non-null  object \n",
            " 4   start_station_name  551331 non-null  object \n",
            " 5   start_station_id    551328 non-null  float64\n",
            " 6   end_station_name    550513 non-null  object \n",
            " 7   end_station_id      550511 non-null  float64\n",
            " 8   start_lat           551480 non-null  float64\n",
            " 9   start_lng           551480 non-null  float64\n",
            " 10  end_lat             550710 non-null  float64\n",
            " 11  end_lng             550710 non-null  float64\n",
            " 12  member_casual       551480 non-null  object \n",
            "dtypes: float64(6), object(7)\n",
            "memory usage: 54.7+ MB\n",
            "152 969\n",
            "<class 'pandas.core.frame.DataFrame'>\n",
            "Int64Index: 550425 entries, 0 to 551479\n",
            "Data columns (total 13 columns):\n",
            " #   Column              Non-Null Count   Dtype  \n",
            "---  ------              --------------   -----  \n",
            " 0   ride_id             550425 non-null  object \n",
            " 1   rideable_type       550425 non-null  object \n",
            " 2   started_at          550425 non-null  object \n",
            " 3   ended_at            550425 non-null  object \n",
            " 4   start_station_name  550425 non-null  object \n",
            " 5   start_station_id    550425 non-null  int64  \n",
            " 6   end_station_name    550425 non-null  object \n",
            " 7   end_station_id      550425 non-null  int64  \n",
            " 8   start_lat           550425 non-null  float64\n",
            " 9   start_lng           550425 non-null  float64\n",
            " 10  end_lat             550425 non-null  float64\n",
            " 11  end_lng             550425 non-null  float64\n",
            " 12  member_casual       550425 non-null  object \n",
            "dtypes: float64(4), int64(2), object(7)\n",
            "memory usage: 58.8+ MB\n",
            "0 0\n"
          ]
        }
      ],
      "source": [
        "\"\"\"\n",
        "TODO:\n",
        "Within the bike trip data that we loaded (`trips_df`), get rid of missing (`NaN`)\n",
        "start and end station ids, and convert those columns to integer columns.\n",
        "Make sure the modified dataframe is referenced as `trips_pr_df`.\n",
        "\"\"\"\n",
        "\n",
        "## Pre Removal - Getting info\n",
        "trips_df.info()\n",
        "start_nan_count = trips_df['start_station_id'].isna().sum()\n",
        "end_nan_count = trips_df['end_station_id'].isna().sum()\n",
        "print(start_nan_count, end_nan_count)\n",
        "\n",
        "## Removal - Removing NaN values from start and end stations [MAIN ANSWER]\n",
        "trips_df.dropna(subset=['start_station_id','end_station_id'],inplace = True)\n",
        "trips_df['start_station_id'] = trips_df['start_station_id'].astype(int)\n",
        "trips_df['end_station_id'] = trips_df['end_station_id'].astype(int)\n",
        "trips_pr_df = trips_df\n",
        "\n",
        "## Post Removal - getting info\n",
        "trips_pr_df.info()\n",
        "start_nan_count = trips_pr_df['start_station_id'].isna().sum()\n",
        "end_nan_count = trips_pr_df['end_station_id'].isna().sum()\n",
        "print(start_nan_count,end_nan_count)"
      ]
    },
    {
      "cell_type": "markdown",
      "metadata": {
        "id": "iOBhtSG7j7VJ"
      },
      "source": [
        "### Community Areas Pre-processing (1 point)"
      ]
    },
    {
      "cell_type": "markdown",
      "source": [
        "**TODO:** \\\\\n",
        "Within the geojson data for the Chicago community areas (`community_df`), rename the column `area_numbe` to `area_number`, and convert that column to an integer column. Make sure to reference the modified geojson data as `community_pr`.\n",
        "\n",
        "*   Renamed the column `area_numbe` to `area_number` using `rename()`\n",
        "*   Converted `area_number` to integer using `astype(int)`\n",
        "\n",
        "\n"
      ],
      "metadata": {
        "id": "mwgMM6MjmDf8"
      }
    },
    {
      "cell_type": "code",
      "execution_count": 35,
      "metadata": {
        "colab": {
          "base_uri": "https://localhost:8080/"
        },
        "id": "GWRXhJZqj7VK",
        "outputId": "530dccc5-1883-4add-95d5-3d8f681cb6a2"
      },
      "outputs": [
        {
          "output_type": "stream",
          "name": "stdout",
          "text": [
            "<class 'geopandas.geodataframe.GeoDataFrame'>\n",
            "RangeIndex: 77 entries, 0 to 76\n",
            "Data columns (total 10 columns):\n",
            " #   Column      Non-Null Count  Dtype   \n",
            "---  ------      --------------  -----   \n",
            " 0   community   77 non-null     object  \n",
            " 1   area        77 non-null     object  \n",
            " 2   shape_area  77 non-null     object  \n",
            " 3   perimeter   77 non-null     object  \n",
            " 4   area_num_1  77 non-null     object  \n",
            " 5   area_numbe  77 non-null     object  \n",
            " 6   comarea_id  77 non-null     object  \n",
            " 7   comarea     77 non-null     object  \n",
            " 8   shape_len   77 non-null     object  \n",
            " 9   geometry    77 non-null     geometry\n",
            "dtypes: geometry(1), object(9)\n",
            "memory usage: 6.1+ KB\n",
            "<class 'geopandas.geodataframe.GeoDataFrame'>\n",
            "RangeIndex: 77 entries, 0 to 76\n",
            "Data columns (total 10 columns):\n",
            " #   Column       Non-Null Count  Dtype   \n",
            "---  ------       --------------  -----   \n",
            " 0   community    77 non-null     object  \n",
            " 1   area         77 non-null     object  \n",
            " 2   shape_area   77 non-null     object  \n",
            " 3   perimeter    77 non-null     object  \n",
            " 4   area_num_1   77 non-null     object  \n",
            " 5   area_number  77 non-null     int64   \n",
            " 6   comarea_id   77 non-null     object  \n",
            " 7   comarea      77 non-null     object  \n",
            " 8   shape_len    77 non-null     object  \n",
            " 9   geometry     77 non-null     geometry\n",
            "dtypes: geometry(1), int64(1), object(8)\n",
            "memory usage: 6.1+ KB\n"
          ]
        }
      ],
      "source": [
        "\"\"\"\n",
        "TODO:\n",
        "Within the geojson data for the Chicago community areas (`community_df`), rename the\n",
        "column `area_numbe` to `area_number`, and convert that column to an integer\n",
        "column. Make sure to reference the modified geojson data as `community_pr`.\n",
        "\"\"\"\n",
        "#pre\n",
        "community_df.info()\n",
        "#post\n",
        "community_df.rename(columns={\"area_numbe\": \"area_number\"},inplace=True)\n",
        "community_df['area_number'] = community_df['area_number'].astype(int)\n",
        "community_pr_df = community_df\n",
        "community_pr_df.info()"
      ]
    },
    {
      "cell_type": "markdown",
      "metadata": {
        "id": "4t7dwD5Tj7VL"
      },
      "source": [
        "### Stations Pre-processing (1 point)"
      ]
    },
    {
      "cell_type": "markdown",
      "source": [
        "**TODO:**\n",
        "Within the bike station location data (`stations_df`), convert it to a\n",
        "`GeoDataFrame` and set its geometry to the point specified by the longitude\n",
        "and latitude pair. Make sure to reference the modified data as `stations_pr_df`. \\\\\n",
        "\n",
        "*   Converting the `stations_df` dataframe to GeoDataframe\n",
        "*   The geometry is set based on `lat` and `lon` pair\n",
        "*   The crs parameter of the `stations_pr_df` GeoDataFrame is set to the same as the `community_pr_df` GeoDataFrame.\n",
        "\n",
        "\n"
      ],
      "metadata": {
        "id": "gp9rPg8FEBRy"
      }
    },
    {
      "cell_type": "code",
      "execution_count": 36,
      "metadata": {
        "colab": {
          "base_uri": "https://localhost:8080/"
        },
        "id": "L9cv2CGtj7VL",
        "outputId": "98353fd9-88eb-4155-9c02-cd12f471da0b"
      },
      "outputs": [
        {
          "output_type": "stream",
          "name": "stdout",
          "text": [
            "<class 'pandas.core.frame.DataFrame'>\n",
            "RangeIndex: 691 entries, 0 to 690\n",
            "Data columns (total 21 columns):\n",
            " #   Column                                Non-Null Count  Dtype  \n",
            "---  ------                                --------------  -----  \n",
            " 0   has_kiosk                             691 non-null    bool   \n",
            " 1   lat                                   691 non-null    float64\n",
            " 2   lon                                   691 non-null    float64\n",
            " 3   external_id                           691 non-null    object \n",
            " 4   rental_uris                           691 non-null    object \n",
            " 5   short_name                            667 non-null    object \n",
            " 6   rental_methods                        667 non-null    object \n",
            " 7   electric_bike_surcharge_waiver        691 non-null    bool   \n",
            " 8   eightd_station_services               691 non-null    object \n",
            " 9   name                                  691 non-null    object \n",
            " 10  capacity                              691 non-null    int64  \n",
            " 11  station_id                            691 non-null    int64  \n",
            " 12  station_type                          691 non-null    object \n",
            " 13  eightd_has_key_dispenser              691 non-null    bool   \n",
            " 14  legacy_id                             691 non-null    int64  \n",
            " 15  region_id                             14 non-null     float64\n",
            " 16  region_code                           24 non-null     object \n",
            " 17  address                               24 non-null     object \n",
            " 18  rack_model                            24 non-null     object \n",
            " 19  dockless_bikes_parking_zone_capacity  24 non-null     float64\n",
            " 20  client_station_id                     24 non-null     object \n",
            "dtypes: bool(3), float64(4), int64(3), object(11)\n",
            "memory usage: 99.3+ KB\n",
            "<class 'geopandas.geodataframe.GeoDataFrame'>\n",
            "RangeIndex: 691 entries, 0 to 690\n",
            "Data columns (total 22 columns):\n",
            " #   Column                                Non-Null Count  Dtype   \n",
            "---  ------                                --------------  -----   \n",
            " 0   has_kiosk                             691 non-null    bool    \n",
            " 1   lat                                   691 non-null    float64 \n",
            " 2   lon                                   691 non-null    float64 \n",
            " 3   external_id                           691 non-null    object  \n",
            " 4   rental_uris                           691 non-null    object  \n",
            " 5   short_name                            667 non-null    object  \n",
            " 6   rental_methods                        667 non-null    object  \n",
            " 7   electric_bike_surcharge_waiver        691 non-null    bool    \n",
            " 8   eightd_station_services               691 non-null    object  \n",
            " 9   name                                  691 non-null    object  \n",
            " 10  capacity                              691 non-null    int64   \n",
            " 11  station_id                            691 non-null    int64   \n",
            " 12  station_type                          691 non-null    object  \n",
            " 13  eightd_has_key_dispenser              691 non-null    bool    \n",
            " 14  legacy_id                             691 non-null    int64   \n",
            " 15  region_id                             14 non-null     float64 \n",
            " 16  region_code                           24 non-null     object  \n",
            " 17  address                               24 non-null     object  \n",
            " 18  rack_model                            24 non-null     object  \n",
            " 19  dockless_bikes_parking_zone_capacity  24 non-null     float64 \n",
            " 20  client_station_id                     24 non-null     object  \n",
            " 21  geometry                              691 non-null    geometry\n",
            "dtypes: bool(3), float64(4), geometry(1), int64(3), object(11)\n",
            "memory usage: 104.7+ KB\n"
          ]
        }
      ],
      "source": [
        "\"\"\"\n",
        "TODO:\n",
        "Within the bike station location data (`stations_df`), convert it to a\n",
        "`GeoDataFrame` and set its geometry to the point specified by the longitude\n",
        "and latitude pair. Make sure to reference the modified data as\n",
        "`stations_pr_df`.\n",
        "\"\"\"\n",
        "#pre\n",
        "stations_df.info()\n",
        "#post\n",
        "geometry = geopandas.points_from_xy(stations_df['lon'], stations_df['lat'])\n",
        "stations_pr_df = geopandas.GeoDataFrame(stations_df, geometry=geometry)\n",
        "stations_pr_df.info()\n",
        "\n",
        "stations_pr_df = stations_pr_df.set_crs(community_pr_df.crs)\n",
        "\n",
        "# stations_pr_gdf = stations_pr_gdf.drop(columns=['lon', 'lat'])"
      ]
    },
    {
      "cell_type": "markdown",
      "metadata": {
        "id": "EbkW2Lbbj7VN"
      },
      "source": [
        "## Geographical Visualization (12/15 points)"
      ]
    },
    {
      "cell_type": "markdown",
      "metadata": {
        "id": "p5UBDGUrj7VN"
      },
      "source": [
        "### Spatial Join (2 points)"
      ]
    },
    {
      "cell_type": "markdown",
      "source": [
        "**TODO:**\n",
        "Given points from station locations, we want to find out which\n",
        "community areas those points are in. This can be accomplished\n",
        "using an `sjoin`(https://geopandas.org/en/stable/gallery/spatial_joins.html)\n",
        "in `geopandas`. After joining the two datasets, you should be\n",
        "able to find the area_number for each `station_id`.\n",
        "\n",
        "\n",
        "\n",
        "*   I have joined `community_pr_df` and `stations_pr_df` using Geopandas `sjoin`\n",
        "\n",
        "\n",
        "* ```\n",
        "geopandas.sjoin(left_df, right_df, how='inner', predicate='intersects', lsuffix='left', rsuffix='right', **kwargs)\n",
        "```\n",
        "\n",
        "\n",
        "*   I have used `inner` join, explanation included in next sections.\n",
        "\n"
      ],
      "metadata": {
        "id": "E33eo2GBVF95"
      }
    },
    {
      "cell_type": "markdown",
      "source": [],
      "metadata": {
        "id": "XbnaSQARV1Bs"
      }
    },
    {
      "cell_type": "code",
      "execution_count": 37,
      "metadata": {
        "colab": {
          "base_uri": "https://localhost:8080/"
        },
        "id": "qxFy2Uaej7VO",
        "outputId": "4317aed0-2306-4ac6-b19e-47eff0495fa6"
      },
      "outputs": [
        {
          "output_type": "stream",
          "name": "stdout",
          "text": [
            "<class 'geopandas.geodataframe.GeoDataFrame'>\n",
            "Int64Index: 677 entries, 0 to 75\n",
            "Data columns (total 32 columns):\n",
            " #   Column                                Non-Null Count  Dtype   \n",
            "---  ------                                --------------  -----   \n",
            " 0   community                             677 non-null    object  \n",
            " 1   area                                  677 non-null    object  \n",
            " 2   shape_area                            677 non-null    object  \n",
            " 3   perimeter                             677 non-null    object  \n",
            " 4   area_num_1                            677 non-null    object  \n",
            " 5   area_number                           677 non-null    int64   \n",
            " 6   comarea_id                            677 non-null    object  \n",
            " 7   comarea                               677 non-null    object  \n",
            " 8   shape_len                             677 non-null    object  \n",
            " 9   geometry                              677 non-null    geometry\n",
            " 10  index_right                           677 non-null    int64   \n",
            " 11  has_kiosk                             677 non-null    bool    \n",
            " 12  lat                                   677 non-null    float64 \n",
            " 13  lon                                   677 non-null    float64 \n",
            " 14  external_id                           677 non-null    object  \n",
            " 15  rental_uris                           677 non-null    object  \n",
            " 16  short_name                            653 non-null    object  \n",
            " 17  rental_methods                        653 non-null    object  \n",
            " 18  electric_bike_surcharge_waiver        677 non-null    bool    \n",
            " 19  eightd_station_services               677 non-null    object  \n",
            " 20  name                                  677 non-null    object  \n",
            " 21  capacity                              677 non-null    int64   \n",
            " 22  station_id                            677 non-null    int64   \n",
            " 23  station_type                          677 non-null    object  \n",
            " 24  eightd_has_key_dispenser              677 non-null    bool    \n",
            " 25  legacy_id                             677 non-null    int64   \n",
            " 26  region_id                             0 non-null      float64 \n",
            " 27  region_code                           24 non-null     object  \n",
            " 28  address                               24 non-null     object  \n",
            " 29  rack_model                            24 non-null     object  \n",
            " 30  dockless_bikes_parking_zone_capacity  24 non-null     float64 \n",
            " 31  client_station_id                     24 non-null     object  \n",
            "dtypes: bool(3), float64(4), geometry(1), int64(5), object(19)\n",
            "memory usage: 160.7+ KB\n"
          ]
        }
      ],
      "source": [
        "\"\"\"\n",
        "TODO:\n",
        "Given points from station locations, we want to find out which\n",
        "community areas those points are in. This can be accomplished\n",
        "using an `sjoin` (https://geopandas.org/en/stable/gallery/spatial_joins.html)\n",
        "in `geopandas`. After joining the two datasets, you should be\n",
        "able to find the area_number for each `station_id`.\n",
        "\"\"\"\n",
        "\n",
        "station_community_df = None\n",
        "station_community_df = geopandas.sjoin(community_pr_df, stations_pr_df, how=\"inner\")\n",
        "station_community_df.info()"
      ]
    },
    {
      "cell_type": "markdown",
      "metadata": {
        "id": "fgWmUtkcj7VP"
      },
      "source": [
        "### Add Community Areas to Trips (4 points)"
      ]
    },
    {
      "cell_type": "markdown",
      "source": [
        "**TODO:** \\\\\n",
        "Use the updated dataframe from the previous part with the bike trip dataset to add columns specifying the start and end community area numbers (`start_ca_num` and `end_ca_num`) for each trip. Remove any entries in your final results that have `NaN` values for either `start_ca_num` or `end_ca_num`.Save your results in `trips_community_df`.\n",
        "\n",
        "\n",
        "* The merging is done base don `name` and using `pd.merge()` instead of `.sjoin()`\n",
        "* `DataFrame.merge(right, how='inner', on=None, left_on=None, right_on=None, left_index=False, right_index=False, sort=False, suffixes=('_x', '_y'), copy=None, indicator=False, validate=None)`"
      ],
      "metadata": {
        "id": "k0qfj6wNunk7"
      }
    },
    {
      "cell_type": "code",
      "execution_count": 38,
      "metadata": {
        "id": "KKX0eMOfj7VP",
        "colab": {
          "base_uri": "https://localhost:8080/"
        },
        "outputId": "9d73252a-9007-4ef2-d4ec-fc8bdb2e772d"
      },
      "outputs": [
        {
          "output_type": "stream",
          "name": "stdout",
          "text": [
            "<class 'pandas.core.frame.DataFrame'>\n",
            "Int64Index: 530011 entries, 0 to 530010\n",
            "Data columns (total 15 columns):\n",
            " #   Column              Non-Null Count   Dtype  \n",
            "---  ------              --------------   -----  \n",
            " 0   ride_id             530011 non-null  object \n",
            " 1   rideable_type       530011 non-null  object \n",
            " 2   started_at          530011 non-null  object \n",
            " 3   ended_at            530011 non-null  object \n",
            " 4   start_station_name  530011 non-null  object \n",
            " 5   start_station_id    530011 non-null  int64  \n",
            " 6   end_station_name    530011 non-null  object \n",
            " 7   end_station_id      530011 non-null  int64  \n",
            " 8   start_lat           530011 non-null  float64\n",
            " 9   start_lng           530011 non-null  float64\n",
            " 10  end_lat             530011 non-null  float64\n",
            " 11  end_lng             530011 non-null  float64\n",
            " 12  member_casual       530011 non-null  object \n",
            " 13  start_ca_num        530011 non-null  int64  \n",
            " 14  end_ca_num          530011 non-null  int64  \n",
            "dtypes: float64(4), int64(4), object(7)\n",
            "memory usage: 64.7+ MB\n"
          ]
        }
      ],
      "source": [
        "\"\"\"\n",
        "TODO:\n",
        "Use the updated dataframe from the previous part with the bike trip dataset to add\n",
        "columns specifying the start and end community area numbers (`start_ca_num` and\n",
        "`end_ca_num`) for each trip. Remove any entries in your final results that have\n",
        "`NaN` values for either `start_ca_num` or `end_ca_num`.Save your results in\n",
        "`trips_community_df`.\n",
        "\"\"\"\n",
        "\n",
        "trips_community_df = None\n",
        "\n",
        "## Start stations x trips\n",
        "trips_community_df = pd.merge(trips_pr_df, station_community_df[['name', 'area_number']],  how='inner', left_on='start_station_name', right_on='name')\n",
        "trips_community_df.rename(columns={'area_number': 'start_ca_num'},inplace=True)\n",
        "trips_community_df.drop(columns=['name'], inplace=True)\n",
        "\n",
        "## End stations x trips\n",
        "trips_community_df = pd.merge(trips_community_df, station_community_df[['name', 'area_number']], how='inner', left_on='end_station_name', right_on='name')\n",
        "trips_community_df.rename(columns={'area_number': 'end_ca_num'},inplace=True)\n",
        "trips_community_df.drop(columns=['name'], inplace=True)\n",
        "\n",
        "## dropping unused cols start_ca and end_ca\n",
        "trips_community_df.dropna(subset=['start_ca_num','end_ca_num'])\n",
        "trips_community_df.info()\n"
      ]
    },
    {
      "cell_type": "markdown",
      "metadata": {
        "id": "wRzHzdkbj7VQ"
      },
      "source": [
        "### Explaining the Joins (2 points)\n",
        "\n",
        "In a short (no more than a paragraph) description, please briefly answer the following inquiries. You can write either in Markdown or in code comments in the space provided in the notebook file.\n",
        "   \n",
        "1. For each join conducted in steps 1 and 2, what was your rationale for using these particular join types?\n",
        "Inquiry 1:\n",
        "\n",
        "`Step 1:`\n",
        "\n",
        "The rationale behind using an `inner join` in steps 1 is to ensure that only the stations and community areas that have a spatial overlap are included in the resulting df. we're interested in knowing which community area each station falls within but when we include stations or community areas that do not have a spatial overlap then we would end up with irrelevant information in the final df.\n",
        "\n",
        "`Step 2:`\n",
        "\n",
        "We used inner join in both the operations when merging the `trips_pr_df` with the `station_community_df` based on\n",
        "station names. Reason is it ensures that only the trips that have both a start and end station present in the\n",
        "station_community_df are included in the final df. we're interested in identifying the community area numbers\n",
        "for both the start and end stations of each trip, only an inner join ensures that we retain only the relevant\n",
        "data where matches are found in both datasets.\n",
        "\n",
        "`Simply saying, we want to keep only the rows where there is a match between the station_names in the trips_pr_df\n",
        "and the station names in the station_community_df.` \\\\\n",
        "\n",
        "If used `left`join \\\\\n",
        "![Left](https://i.postimg.cc/HWSRPBjW/temp-Imagebeti5a.avif)\n",
        "\n",
        "If used `right`join \\\\\n",
        "![Right](https://i.postimg.cc/QxHwL1WQ/temp-Image2pq-Rv-S.avif)\n",
        "2. Did your final `trips_community_df` end up a different size from the original `trips_pr_df` dataframe? If so, what do you think caused this difference in size? \\\\\n",
        "\n",
        "A. Obviously since it;s an inner join and it only considers intersection data from two dfs. The two main reasons would be `missing station data` and `stations outside communitty areas`. Like invalid or missing some trips in the original `trips_pr_df` may have had missing or invalid station names (start_ca or end_ca station names), leading to `NaN` values after the inner join, which we removed removed using dropna(). There may have been stations in the original `trips_pr_df` that did not fall within any of the community areas covered in the `station_community_df`. hence, no community area number could be assigned to these stations, and their related trips would've been removed during the join. These might be the reasons for differencein size in the `trips_community_df`. This merge can also be done using `station_id` instead of `name` given in the hints. it produces the same result."
      ]
    },
    {
      "cell_type": "code",
      "execution_count": null,
      "metadata": {
        "id": "7oZz3AHfj7VQ"
      },
      "outputs": [],
      "source": [
        "\"\"\"\n",
        "OPTIONAL:\n",
        "Use this space for either your answers for the above prompt or to run additional code.\n",
        "\n",
        "This is Based on Station_ID instead of name\n",
        "\n",
        "# trips_community_df = None\n",
        "# trips_community_df = pd.merge(trips_pr_df, station_community_df[['station_id', 'area_number']], left_on='start_station_id', right_on='station_id', how='inner')\n",
        "# trips_community_df = trips_community_df.rename(columns={'area_number': 'start_ca_num'})\n",
        "# trips_community_df.drop(columns=['station_id'], inplace=True)\n",
        "# trips_community_df = pd.merge(trips_community_df, station_community_df[['station_id', 'area_number']], left_on='end_station_id', right_on='station_id', how='inner')\n",
        "# trips_community_df = trips_community_df.rename(columns={'area_number': 'end_ca_num'})\n",
        "# trips_community_df.drop(columns=['station_id'], inplace=True)\n",
        "# trips_community_df.dropna(subset=['start_ca_num','end_ca_num'])\n",
        "# trips_community_df.info()\n",
        "\n",
        "\"\"\"\n"
      ]
    },
    {
      "cell_type": "markdown",
      "metadata": {
        "id": "z1iU3Gnej7VR"
      },
      "source": [
        "### Visualize Station Distribution (4 points)"
      ]
    },
    {
      "cell_type": "code",
      "execution_count": 39,
      "metadata": {
        "id": "NGKNDqOyj7VS",
        "colab": {
          "base_uri": "https://localhost:8080/",
          "height": 890
        },
        "outputId": "560e1f56-32c9-4184-f962-fabf7e0f8ed1"
      },
      "outputs": [
        {
          "output_type": "execute_result",
          "data": {
            "text/plain": [
              "<Axes: >"
            ]
          },
          "metadata": {},
          "execution_count": 39
        },
        {
          "output_type": "display_data",
          "data": {
            "text/plain": [
              "<Figure size 1100x500 with 2 Axes>"
            ],
            "image/png": "[encoded data removed]"
          },
          "metadata": {}
        },
        {
          "output_type": "display_data",
          "data": {
            "text/plain": [
              "<Figure size 1100x500 with 2 Axes>"
            ],
            "image/png": "[encoded data removed]"
          },
          "metadata": {}
        }
      ],
      "source": [
        "\"\"\"\n",
        "TODO:\n",
        "We want to understand which community areas have bike stations. Using `geopandas`,\n",
        "generate a plot of the number of stations per community area. This can be\n",
        "accomplished by aggregating the stations by community area. Then use the `plot()`\n",
        "command to generate a chloropleth map. You are allowed to define a colormap for\n",
        "your chloropleth map via the `cmap` parameter.\n",
        "\"\"\"\n",
        "station_community_grouped_data_df = None\n",
        "station_community_grouped_data_df = station_community_df.groupby('community').size().reset_index(name='stations_in_a_community')\n",
        "station_community_plot_df = station_community_df.merge(station_community_grouped_data_df, on='community')\n",
        "\n",
        "#Plot\n",
        "station_community_plot_df.plot(column='stations_in_a_community', legend=True, figsize=(11, 5))\n",
        "station_community_plot_df.plot(column='stations_in_a_community', cmap='OrRd', legend=True, figsize=(11, 5))"
      ]
    }
  ],
  "metadata": {
    "colab": {
      "provenance": []
    },
    "kernelspec": {
      "display_name": "Python 3 (ipykernel)",
      "language": "python",
      "name": "python3"
    },
    "language_info": {
      "codemirror_mode": {
        "name": "ipython",
        "version": 3
      },
      "file_extension": ".py",
      "mimetype": "text/x-python",
      "name": "python",
      "nbconvert_exporter": "python",
      "pygments_lexer": "ipython3",
      "version": "3.11.5"
    }
  },
  "nbformat": 4,
  "nbformat_minor": 0
}